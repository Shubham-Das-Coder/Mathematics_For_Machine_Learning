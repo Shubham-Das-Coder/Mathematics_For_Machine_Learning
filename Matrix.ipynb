{
  "nbformat": 4,
  "nbformat_minor": 0,
  "metadata": {
    "colab": {
      "name": "Matrix.ipynb",
      "provenance": [],
      "collapsed_sections": [],
      "authorship_tag": "ABX9TyP53HtLIcFUgc39S0LQf5dB",
      "include_colab_link": true
    },
    "kernelspec": {
      "name": "python3",
      "display_name": "Python 3"
    },
    "language_info": {
      "name": "python"
    }
  },
  "cells": [
    {
      "cell_type": "markdown",
      "metadata": {
        "id": "view-in-github",
        "colab_type": "text"
      },
      "source": [
        "<a href=\"https://colab.research.google.com/github/Shubham-Das-Coder/Mathematics_For_Machine_Learning/blob/main/Matrix.ipynb\" target=\"_parent\"><img src=\"https://colab.research.google.com/assets/colab-badge.svg\" alt=\"Open In Colab\"/></a>"
      ]
    },
    {
      "cell_type": "code",
      "metadata": {
        "id": "NcyvCxywGEwI"
      },
      "source": [
        "#Importing the libraries\n",
        "import numpy as np"
      ],
      "execution_count": 1,
      "outputs": []
    },
    {
      "cell_type": "code",
      "metadata": {
        "colab": {
          "base_uri": "https://localhost:8080/"
        },
        "id": "6A6fRXQl3es3",
        "outputId": "48b064a7-7015-4e1c-b6be-99b4e69410ad"
      },
      "source": [
        "#Creating a matrix using numpy\n",
        "matrix_1=np.array([[2,3],[6,7]])\n",
        "print(matrix_1)"
      ],
      "execution_count": 2,
      "outputs": [
        {
          "output_type": "stream",
          "name": "stdout",
          "text": [
            "[[2 3]\n",
            " [6 7]]\n"
          ]
        }
      ]
    },
    {
      "cell_type": "code",
      "metadata": {
        "colab": {
          "base_uri": "https://localhost:8080/"
        },
        "id": "5S_NiSbd3r19",
        "outputId": "f44cdaca-0915-4b0a-f2a0-063bcb45a5fb"
      },
      "source": [
        "#Displaying the shape of the matrix\n",
        "matrix_1.shape"
      ],
      "execution_count": 3,
      "outputs": [
        {
          "output_type": "execute_result",
          "data": {
            "text/plain": [
              "(2, 2)"
            ]
          },
          "metadata": {},
          "execution_count": 3
        }
      ]
    },
    {
      "cell_type": "code",
      "metadata": {
        "colab": {
          "base_uri": "https://localhost:8080/"
        },
        "id": "3wtS5GHs3wdF",
        "outputId": "db91fbf2-d366-4933-e86a-f5193bb50248"
      },
      "source": [
        "#Creating a matrix using numpy\n",
        "matrix_2=np.array([[10,35,45],[50,64,80],[20,15,90]])\n",
        "print(matrix_2)"
      ],
      "execution_count": 4,
      "outputs": [
        {
          "output_type": "stream",
          "name": "stdout",
          "text": [
            "[[10 35 45]\n",
            " [50 64 80]\n",
            " [20 15 90]]\n"
          ]
        }
      ]
    },
    {
      "cell_type": "code",
      "metadata": {
        "colab": {
          "base_uri": "https://localhost:8080/"
        },
        "id": "ty-ooY6x4EdM",
        "outputId": "6c5af41b-ba9c-44a8-a755-ff25ff8cd01c"
      },
      "source": [
        "#Displaying the shape of the matrix\n",
        "matrix_2.shape"
      ],
      "execution_count": 5,
      "outputs": [
        {
          "output_type": "execute_result",
          "data": {
            "text/plain": [
              "(3, 3)"
            ]
          },
          "metadata": {},
          "execution_count": 5
        }
      ]
    },
    {
      "cell_type": "code",
      "metadata": {
        "colab": {
          "base_uri": "https://localhost:8080/"
        },
        "id": "NJSSHBFJ4Lrm",
        "outputId": "584e8fb0-22ff-4cd3-f9ac-397b8d995a9e"
      },
      "source": [
        "#Creating matrices with random floating values\n",
        "random_matrix=np.random.rand(3,3)\n",
        "print(random_matrix)"
      ],
      "execution_count": 6,
      "outputs": [
        {
          "output_type": "stream",
          "name": "stdout",
          "text": [
            "[[0.11767276 0.9207928  0.59001137]\n",
            " [0.07722631 0.09328821 0.94160468]\n",
            " [0.98133921 0.38639879 0.36791287]]\n"
          ]
        }
      ]
    },
    {
      "cell_type": "code",
      "metadata": {
        "colab": {
          "base_uri": "https://localhost:8080/"
        },
        "id": "xWQeNTrc4bON",
        "outputId": "0b19be76-c359-46e4-e53b-cd986e441612"
      },
      "source": [
        "#Creating matrices with random integer values\n",
        "random_integer_matrix=np.random.randint(100,size=(4,4))\n",
        "print(random_integer_matrix)"
      ],
      "execution_count": 7,
      "outputs": [
        {
          "output_type": "stream",
          "name": "stdout",
          "text": [
            "[[72 55 17 84]\n",
            " [91 85 69 11]\n",
            " [66 94 82 24]\n",
            " [67 40 64 82]]\n"
          ]
        }
      ]
    },
    {
      "cell_type": "code",
      "metadata": {
        "colab": {
          "base_uri": "https://localhost:8080/"
        },
        "id": "lwyv1Fzy4uts",
        "outputId": "605ca601-8d6e-4aed-91f3-4a416d607743"
      },
      "source": [
        "#Matrix with all the values as 1\n",
        "matrix_with_ones=np.ones((3,4))\n",
        "print(matrix_with_ones)"
      ],
      "execution_count": 8,
      "outputs": [
        {
          "output_type": "stream",
          "name": "stdout",
          "text": [
            "[[1. 1. 1. 1.]\n",
            " [1. 1. 1. 1.]\n",
            " [1. 1. 1. 1.]]\n"
          ]
        }
      ]
    },
    {
      "cell_type": "code",
      "metadata": {
        "colab": {
          "base_uri": "https://localhost:8080/"
        },
        "id": "X5vLGgMS46CE",
        "outputId": "b4fde261-5266-4e06-8026-a47317f90a80"
      },
      "source": [
        "#Matrix with all the values as 1\n",
        "matrix_with_ones_2=np.ones((4,3),dtype=int)\n",
        "print(matrix_with_ones_2)"
      ],
      "execution_count": 9,
      "outputs": [
        {
          "output_type": "stream",
          "name": "stdout",
          "text": [
            "[[1 1 1]\n",
            " [1 1 1]\n",
            " [1 1 1]\n",
            " [1 1 1]]\n"
          ]
        }
      ]
    },
    {
      "cell_type": "code",
      "metadata": {
        "colab": {
          "base_uri": "https://localhost:8080/"
        },
        "id": "-Edk1P8P5Wgv",
        "outputId": "bc049d97-e18d-4018-fc34-195016e75767"
      },
      "source": [
        "#Null matrix or zero matrix\n",
        "null_matrix=np.zeros((5,5))\n",
        "print(null_matrix)"
      ],
      "execution_count": 10,
      "outputs": [
        {
          "output_type": "stream",
          "name": "stdout",
          "text": [
            "[[0. 0. 0. 0. 0.]\n",
            " [0. 0. 0. 0. 0.]\n",
            " [0. 0. 0. 0. 0.]\n",
            " [0. 0. 0. 0. 0.]\n",
            " [0. 0. 0. 0. 0.]]\n"
          ]
        }
      ]
    },
    {
      "cell_type": "code",
      "metadata": {
        "colab": {
          "base_uri": "https://localhost:8080/"
        },
        "id": "unqy3s1f5jIF",
        "outputId": "6296fa0e-225b-4813-e652-d38a0d4fb598"
      },
      "source": [
        "#Identity matrix\n",
        "identity_matrix=np.eye(3,3)\n",
        "print(identity_matrix)"
      ],
      "execution_count": 11,
      "outputs": [
        {
          "output_type": "stream",
          "name": "stdout",
          "text": [
            "[[1. 0. 0.]\n",
            " [0. 1. 0.]\n",
            " [0. 0. 1.]]\n"
          ]
        }
      ]
    },
    {
      "cell_type": "code",
      "metadata": {
        "colab": {
          "base_uri": "https://localhost:8080/"
        },
        "id": "WFvXX1QT5wu0",
        "outputId": "c9852a55-5181-4179-cd17-25f1c3cc59e0"
      },
      "source": [
        "#Transpose of a matrix\n",
        "a=np.random.randint(100,size=(4,4))\n",
        "print(a)\n",
        "transpose_of_a=np.transpose(a)\n",
        "print(transpose_of_a)"
      ],
      "execution_count": 12,
      "outputs": [
        {
          "output_type": "stream",
          "name": "stdout",
          "text": [
            "[[10 55 61 74]\n",
            " [40 89 58 78]\n",
            " [94 37 88 47]\n",
            " [82 37 32 82]]\n",
            "[[10 40 94 82]\n",
            " [55 89 37 37]\n",
            " [61 58 88 32]\n",
            " [74 78 47 82]]\n"
          ]
        }
      ]
    },
    {
      "cell_type": "code",
      "metadata": {
        "colab": {
          "base_uri": "https://localhost:8080/"
        },
        "id": "STiyTTwx8kJe",
        "outputId": "024ab359-1619-489c-94fb-db92f1775d39"
      },
      "source": [
        "#Transpose of a matrix\n",
        "b=np.random.randint(100,size=(3,4))\n",
        "print(b)\n",
        "transpose_of_b=np.transpose(b)\n",
        "print(transpose_of_b)"
      ],
      "execution_count": 13,
      "outputs": [
        {
          "output_type": "stream",
          "name": "stdout",
          "text": [
            "[[93 55 16 28]\n",
            " [58 41 83 68]\n",
            " [ 3  6 33 35]]\n",
            "[[93 58  3]\n",
            " [55 41  6]\n",
            " [16 83 33]\n",
            " [28 68 35]]\n"
          ]
        }
      ]
    },
    {
      "cell_type": "code",
      "metadata": {
        "colab": {
          "base_uri": "https://localhost:8080/"
        },
        "id": "DqrZqbMs8rZM",
        "outputId": "3ab4743c-9ef6-426d-b39f-a43abad577d6"
      },
      "source": [
        "#Addition of matrices\n",
        "A=np.array([[2,3],[4,5]])\n",
        "print(A)\n",
        "B=np.array([[6,7],[8,9]])\n",
        "print(B)"
      ],
      "execution_count": 14,
      "outputs": [
        {
          "output_type": "stream",
          "name": "stdout",
          "text": [
            "[[2 3]\n",
            " [4 5]]\n",
            "[[6 7]\n",
            " [8 9]]\n"
          ]
        }
      ]
    },
    {
      "cell_type": "code",
      "metadata": {
        "colab": {
          "base_uri": "https://localhost:8080/"
        },
        "id": "a3fEZW5XWMLa",
        "outputId": "74429802-16fb-49a1-850e-8dce39300ed3"
      },
      "source": [
        "A.shape\n",
        "B.shape"
      ],
      "execution_count": 15,
      "outputs": [
        {
          "output_type": "execute_result",
          "data": {
            "text/plain": [
              "(2, 2)"
            ]
          },
          "metadata": {},
          "execution_count": 15
        }
      ]
    },
    {
      "cell_type": "code",
      "metadata": {
        "colab": {
          "base_uri": "https://localhost:8080/"
        },
        "id": "Z9KXdlKcWQXY",
        "outputId": "c32fdf49-5176-4573-bab3-c9d65fa8f688"
      },
      "source": [
        "sum=A+B\n",
        "print(sum)"
      ],
      "execution_count": 16,
      "outputs": [
        {
          "output_type": "stream",
          "name": "stdout",
          "text": [
            "[[ 8 10]\n",
            " [12 14]]\n"
          ]
        }
      ]
    },
    {
      "cell_type": "code",
      "metadata": {
        "id": "E-8dAOvzWU_g"
      },
      "source": [
        "#Creating two matrices with random values\n",
        "matrix_1=np.random.randint(10,size=(3,3))\n",
        "matrix_2=np.random.randint(10,size=(3,3))"
      ],
      "execution_count": 17,
      "outputs": []
    },
    {
      "cell_type": "code",
      "metadata": {
        "colab": {
          "base_uri": "https://localhost:8080/"
        },
        "id": "QlN9uBn9WmUR",
        "outputId": "89a69038-af54-4bd7-b5a1-7f2a09e01bb2"
      },
      "source": [
        "print(matrix_1)"
      ],
      "execution_count": 18,
      "outputs": [
        {
          "output_type": "stream",
          "name": "stdout",
          "text": [
            "[[8 2 2]\n",
            " [9 9 1]\n",
            " [7 3 8]]\n"
          ]
        }
      ]
    },
    {
      "cell_type": "code",
      "metadata": {
        "colab": {
          "base_uri": "https://localhost:8080/"
        },
        "id": "FFAEJvugWnYQ",
        "outputId": "1511ab7a-3dbc-4afd-f6e2-6d141f982f74"
      },
      "source": [
        "print(matrix_2)"
      ],
      "execution_count": 19,
      "outputs": [
        {
          "output_type": "stream",
          "name": "stdout",
          "text": [
            "[[1 2 9]\n",
            " [1 2 0]\n",
            " [4 6 2]]\n"
          ]
        }
      ]
    },
    {
      "cell_type": "code",
      "metadata": {
        "colab": {
          "base_uri": "https://localhost:8080/"
        },
        "id": "Zo7fQagdWo2o",
        "outputId": "8a26e816-52c9-4c31-e727-cda1a53aadd0"
      },
      "source": [
        "sum=np.add(matrix_1,matrix_2)\n",
        "print(sum)"
      ],
      "execution_count": 20,
      "outputs": [
        {
          "output_type": "stream",
          "name": "stdout",
          "text": [
            "[[ 9  4 11]\n",
            " [10 11  1]\n",
            " [11  9 10]]\n"
          ]
        }
      ]
    },
    {
      "cell_type": "code",
      "metadata": {
        "colab": {
          "base_uri": "https://localhost:8080/"
        },
        "id": "Z1VOoHSWWt0o",
        "outputId": "ded6f246-21c6-4190-a0a3-f55ec5a67510"
      },
      "source": [
        "#Subtraction of two matrices\n",
        "A=np.array([[5,6],[7,8]])\n",
        "B=np.array([[1,2],[3,4]])\n",
        "print(A)\n",
        "print(B)"
      ],
      "execution_count": 21,
      "outputs": [
        {
          "output_type": "stream",
          "name": "stdout",
          "text": [
            "[[5 6]\n",
            " [7 8]]\n",
            "[[1 2]\n",
            " [3 4]]\n"
          ]
        }
      ]
    },
    {
      "cell_type": "code",
      "metadata": {
        "colab": {
          "base_uri": "https://localhost:8080/"
        },
        "id": "gHKwr8S7XRFl",
        "outputId": "8acc1f9f-3568-4df7-d200-a33f81bbc6cb"
      },
      "source": [
        "difference=A-B\n",
        "print(difference)"
      ],
      "execution_count": 22,
      "outputs": [
        {
          "output_type": "stream",
          "name": "stdout",
          "text": [
            "[[4 4]\n",
            " [4 4]]\n"
          ]
        }
      ]
    },
    {
      "cell_type": "code",
      "metadata": {
        "id": "rAJ1EuEaXUb_"
      },
      "source": [
        "#Creating two matrices with random values\n",
        "matrix1=np.random.randint(10,size=(3,3))\n",
        "matrix2=np.random.randint(10,size=(3,3))"
      ],
      "execution_count": 23,
      "outputs": []
    },
    {
      "cell_type": "code",
      "metadata": {
        "colab": {
          "base_uri": "https://localhost:8080/"
        },
        "id": "_1ILL3--XdP4",
        "outputId": "0204b641-5ed3-426e-8e97-9fba89b248d8"
      },
      "source": [
        "print(matrix1)\n",
        "print(matrix2)"
      ],
      "execution_count": 24,
      "outputs": [
        {
          "output_type": "stream",
          "name": "stdout",
          "text": [
            "[[4 4 2]\n",
            " [5 5 9]\n",
            " [8 8 5]]\n",
            "[[7 1 3]\n",
            " [0 7 5]\n",
            " [6 1 4]]\n"
          ]
        }
      ]
    },
    {
      "cell_type": "code",
      "metadata": {
        "colab": {
          "base_uri": "https://localhost:8080/"
        },
        "id": "D0ofuB2kXgm5",
        "outputId": "14bd8d62-6cb8-409c-a1b8-a8ed859cee16"
      },
      "source": [
        "diff=np.subtract(matrix1,matrix2)\n",
        "print(diff)"
      ],
      "execution_count": 25,
      "outputs": [
        {
          "output_type": "stream",
          "name": "stdout",
          "text": [
            "[[-3  3 -1]\n",
            " [ 5 -2  4]\n",
            " [ 2  7  1]]\n"
          ]
        }
      ]
    },
    {
      "cell_type": "code",
      "metadata": {
        "colab": {
          "base_uri": "https://localhost:8080/"
        },
        "id": "nmMaQkF0XnHx",
        "outputId": "2d0171af-7b5c-4766-f3c8-2e97e23d6656"
      },
      "source": [
        "#Multiplying a matrix by a scalar\n",
        "x=5\n",
        "y=np.random.randint(10,size=(4,4))\n",
        "print(y)"
      ],
      "execution_count": 26,
      "outputs": [
        {
          "output_type": "stream",
          "name": "stdout",
          "text": [
            "[[2 5 8 3]\n",
            " [7 9 2 5]\n",
            " [3 7 8 1]\n",
            " [6 2 2 4]]\n"
          ]
        }
      ]
    },
    {
      "cell_type": "code",
      "metadata": {
        "colab": {
          "base_uri": "https://localhost:8080/"
        },
        "id": "yjJMc1bJX9u6",
        "outputId": "d98b4ed6-a5b2-4523-840e-e64ec5fcb85a"
      },
      "source": [
        "product=np.multiply(x,y)\n",
        "print(product)"
      ],
      "execution_count": 27,
      "outputs": [
        {
          "output_type": "stream",
          "name": "stdout",
          "text": [
            "[[10 25 40 15]\n",
            " [35 45 10 25]\n",
            " [15 35 40  5]\n",
            " [30 10 10 20]]\n"
          ]
        }
      ]
    },
    {
      "cell_type": "code",
      "metadata": {
        "colab": {
          "base_uri": "https://localhost:8080/"
        },
        "id": "uxIi_XI3YChA",
        "outputId": "a6705fe7-bd4d-49e8-bffb-25fd30353732"
      },
      "source": [
        "#Multiplying 2 matrices\n",
        "Matrix_1=np.random.randint(5,size=(3,3))\n",
        "Matrix_2=np.random.randint(5,size=(3,4))\n",
        "print(Matrix_1)\n",
        "print(Matrix_2)"
      ],
      "execution_count": 28,
      "outputs": [
        {
          "output_type": "stream",
          "name": "stdout",
          "text": [
            "[[4 2 3]\n",
            " [4 3 3]\n",
            " [0 2 0]]\n",
            "[[3 1 0 4]\n",
            " [0 2 1 3]\n",
            " [4 0 0 0]]\n"
          ]
        }
      ]
    },
    {
      "cell_type": "code",
      "metadata": {
        "colab": {
          "base_uri": "https://localhost:8080/"
        },
        "id": "l-OtlGlvYXdZ",
        "outputId": "7a784e21-cf20-43c1-aa1b-f207eb749006"
      },
      "source": [
        "prod=np.dot(Matrix_1,Matrix_2)\n",
        "print(prod)"
      ],
      "execution_count": 29,
      "outputs": [
        {
          "output_type": "stream",
          "name": "stdout",
          "text": [
            "[[24  8  2 22]\n",
            " [24 10  3 25]\n",
            " [ 0  4  2  6]]\n"
          ]
        }
      ]
    },
    {
      "cell_type": "code",
      "metadata": {
        "colab": {
          "base_uri": "https://localhost:8080/"
        },
        "id": "lut9QnZ4YcQ4",
        "outputId": "c91cb7a4-35ac-4397-8e92-273abc3f33b7"
      },
      "source": [
        "prod.shape"
      ],
      "execution_count": 30,
      "outputs": [
        {
          "output_type": "execute_result",
          "data": {
            "text/plain": [
              "(3, 4)"
            ]
          },
          "metadata": {},
          "execution_count": 30
        }
      ]
    },
    {
      "cell_type": "code",
      "metadata": {
        "colab": {
          "base_uri": "https://localhost:8080/"
        },
        "id": "lH4IoderYgVQ",
        "outputId": "e5680716-d587-4e69-c48d-3a7c0a86e7d2"
      },
      "source": [
        "#Multiplying 2 matrices\n",
        "Matrix_1=np.random.randint(5,size=(3,3))\n",
        "Matrix_2=np.random.randint(5,size=(3,3))\n",
        "print(Matrix_1)\n",
        "print(Matrix_2)"
      ],
      "execution_count": 31,
      "outputs": [
        {
          "output_type": "stream",
          "name": "stdout",
          "text": [
            "[[0 3 4]\n",
            " [1 2 4]\n",
            " [0 0 4]]\n",
            "[[4 0 0]\n",
            " [0 0 4]\n",
            " [0 3 0]]\n"
          ]
        }
      ]
    },
    {
      "cell_type": "code",
      "metadata": {
        "colab": {
          "base_uri": "https://localhost:8080/"
        },
        "id": "x3_rkWbFYqG6",
        "outputId": "1d63ff75-1037-4d3b-b16d-d2970d315b8b"
      },
      "source": [
        "prod=np.dot(Matrix_1,Matrix_2)\n",
        "print(prod)"
      ],
      "execution_count": 32,
      "outputs": [
        {
          "output_type": "stream",
          "name": "stdout",
          "text": [
            "[[ 0 12 12]\n",
            " [ 4 12  8]\n",
            " [ 0 12  0]]\n"
          ]
        }
      ]
    },
    {
      "cell_type": "code",
      "metadata": {
        "colab": {
          "base_uri": "https://localhost:8080/"
        },
        "id": "NBT_QuY2YuIQ",
        "outputId": "f09ce57e-9872-4b60-9073-d2667c762d30"
      },
      "source": [
        "prod.shape"
      ],
      "execution_count": 33,
      "outputs": [
        {
          "output_type": "execute_result",
          "data": {
            "text/plain": [
              "(3, 3)"
            ]
          },
          "metadata": {},
          "execution_count": 33
        }
      ]
    },
    {
      "cell_type": "code",
      "metadata": {
        "colab": {
          "base_uri": "https://localhost:8080/"
        },
        "id": "kRl7F5pbYycQ",
        "outputId": "ca8d23fb-2064-4fb2-ab93-64ebfd529ad3"
      },
      "source": [
        "mat_1=np.random.randint(5,size=(3,3))\n",
        "mat_2=np.random.randint(5,size=(3,3))\n",
        "print(mat_1)\n",
        "print(mat_2)"
      ],
      "execution_count": 34,
      "outputs": [
        {
          "output_type": "stream",
          "name": "stdout",
          "text": [
            "[[3 1 2]\n",
            " [2 1 4]\n",
            " [4 3 2]]\n",
            "[[1 3 0]\n",
            " [4 3 0]\n",
            " [0 1 3]]\n"
          ]
        }
      ]
    },
    {
      "cell_type": "code",
      "metadata": {
        "colab": {
          "base_uri": "https://localhost:8080/"
        },
        "id": "t3begvCaZpJB",
        "outputId": "d273492c-d101-4fa1-bf84-6a94f0775385"
      },
      "source": [
        "mult=np.multiply(mat_1,mat_2)\n",
        "print(mult)"
      ],
      "execution_count": 35,
      "outputs": [
        {
          "output_type": "stream",
          "name": "stdout",
          "text": [
            "[[3 3 0]\n",
            " [8 3 0]\n",
            " [0 3 6]]\n"
          ]
        }
      ]
    },
    {
      "cell_type": "code",
      "metadata": {
        "colab": {
          "base_uri": "https://localhost:8080/"
        },
        "id": "MHcTwVLOZxKA",
        "outputId": "7d61bbc8-58e9-4c94-d659-a7e1f4ca1307"
      },
      "source": [
        "mult.shape"
      ],
      "execution_count": 36,
      "outputs": [
        {
          "output_type": "execute_result",
          "data": {
            "text/plain": [
              "(3, 3)"
            ]
          },
          "metadata": {},
          "execution_count": 36
        }
      ]
    }
  ]
}